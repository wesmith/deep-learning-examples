{
 "cells": [
  {
   "cell_type": "markdown",
   "id": "57ee6bcd-ea48-4a4f-9ade-92898fe4e13f",
   "metadata": {},
   "source": [
    "# pytorch_mnist.ipynb\n",
    "# WESmith 06/26/23\n",
    "## review of MNIST processing with pytorch\n",
    "## see https://nextjournal.com/gkoehler/pytorch-mnist"
   ]
  },
  {
   "cell_type": "code",
   "execution_count": null,
   "id": "0ffb0f67-6d66-4b48-b78d-fda2fe4277c5",
   "metadata": {},
   "outputs": [],
   "source": [
    "import torch\n",
    "import torch.nn            as nn\n",
    "import torch.nn.functional as F\n",
    "import torch.optim         as optim\n",
    "import torchvision\n",
    "import numpy               as np\n",
    "import matplotlib.pyplot   as plt"
   ]
  },
  {
   "cell_type": "code",
   "execution_count": null,
   "id": "5244008d-428e-4e4b-a578-859387491a92",
   "metadata": {},
   "outputs": [],
   "source": [
    "n_epochs         = 3\n",
    "batch_size_train = 64\n",
    "batch_size_test  = 1000\n",
    "learning_rate    = 0.01\n",
    "momentum         = 0.5\n",
    "log_interval     = 10  # WS (was 10)\n",
    "\n",
    "random_seed      = 42\n",
    "torch.backends.cudnn.enabled = False  # disable nondeterministic algorithms\n",
    "torch.manual_seed(random_seed)"
   ]
  },
  {
   "cell_type": "code",
   "execution_count": null,
   "id": "9a5d2af1-db18-42c2-8603-259a2acee217",
   "metadata": {},
   "outputs": [],
   "source": [
    "#torchvision.datasets.MNIST?"
   ]
  },
  {
   "cell_type": "code",
   "execution_count": null,
   "id": "89b7f7e3-d309-49d5-90d7-a0953cf45880",
   "metadata": {},
   "outputs": [],
   "source": [
    "#torch.utils.data.DataLoader?"
   ]
  },
  {
   "cell_type": "code",
   "execution_count": null,
   "id": "a322f5e0-a08e-44b9-912f-f878d73ebebe",
   "metadata": {},
   "outputs": [],
   "source": [
    "data_dir = 'data'"
   ]
  },
  {
   "cell_type": "code",
   "execution_count": null,
   "id": "9fe0398a-5add-45b4-8966-9fbc1fe999c5",
   "metadata": {},
   "outputs": [],
   "source": [
    "train_data = torchvision.datasets.MNIST(data_dir, train=True, download=True,\n",
    "                                         transform=torchvision.transforms.Compose([\n",
    "                                             torchvision.transforms.ToTensor(),\n",
    "                                             torchvision.transforms.Normalize(\n",
    "                                             (0.1307,), (0.3081))]))  # predefined global mean, std"
   ]
  },
  {
   "cell_type": "code",
   "execution_count": null,
   "id": "dca8e2d0-4753-4906-beaf-56f25574f4e5",
   "metadata": {},
   "outputs": [],
   "source": [
    "train_loader = torch.utils.data.DataLoader(train_data, batch_size=batch_size_train, shuffle=True)"
   ]
  },
  {
   "cell_type": "code",
   "execution_count": null,
   "id": "ac32ab8e-a191-4853-ab94-9c94f1d9aa84",
   "metadata": {},
   "outputs": [],
   "source": [
    "test_data  = torchvision.datasets.MNIST(data_dir, train=False, download=True,\n",
    "                                         transform=torchvision.transforms.Compose([\n",
    "                                             torchvision.transforms.ToTensor(),\n",
    "                                             torchvision.transforms.Normalize(\n",
    "                                             (0.1307,), (0.3081))]))  # predefined global mean, std"
   ]
  },
  {
   "cell_type": "code",
   "execution_count": null,
   "id": "be63db53-f565-4c3c-a855-432ebf4a0caa",
   "metadata": {},
   "outputs": [],
   "source": [
    "test_loader = torch.utils.data.DataLoader(test_data, batch_size=batch_size_test, shuffle=True)"
   ]
  },
  {
   "cell_type": "code",
   "execution_count": null,
   "id": "59e24476-d480-4b78-9ecf-a9b3133b9a6a",
   "metadata": {},
   "outputs": [],
   "source": [
    "examples = enumerate(test_loader)  # create an emumerate object: it yields a tuple of (count, object)"
   ]
  },
  {
   "cell_type": "code",
   "execution_count": null,
   "id": "c479ab03-aa3d-4a6f-b763-ff7d73e369d2",
   "metadata": {},
   "outputs": [],
   "source": [
    "batch_idx, (example_data, example_targets) = next(examples)"
   ]
  },
  {
   "cell_type": "code",
   "execution_count": null,
   "id": "1c359f46-be8e-469a-be14-e2d5c38b7897",
   "metadata": {},
   "outputs": [],
   "source": [
    "example_data.shape, example_targets.shape"
   ]
  },
  {
   "cell_type": "code",
   "execution_count": null,
   "id": "1c428695-a2ca-494d-9bec-f81c2b8f3295",
   "metadata": {
    "tags": []
   },
   "outputs": [],
   "source": [
    "fig = plt.figure(figsize=(15, 12))\n",
    "nr = 5\n",
    "nc = 6\n",
    "for i in range(nr * nc):\n",
    "    plt.subplot(nr, nc, i+1)\n",
    "    plt.tight_layout()\n",
    "    plt.imshow(example_data[i][0], cmap='gray', interpolation=None)\n",
    "    plt.title(f'idx: {i}, truth: {example_targets[i]}', c='w')\n",
    "    plt.xticks([])\n",
    "    plt.yticks([])"
   ]
  },
  {
   "cell_type": "code",
   "execution_count": null,
   "id": "32e70a18-0005-4a4a-9511-0e6d14d31c7a",
   "metadata": {},
   "outputs": [],
   "source": [
    "example_data.mean(), example_data.std()  # almost at 0.0, 1.0"
   ]
  },
  {
   "cell_type": "code",
   "execution_count": null,
   "id": "b6408479-259e-4c92-980a-0214f57cadb2",
   "metadata": {},
   "outputs": [],
   "source": [
    "class Net(nn.Module):\n",
    "    def __init__(self):\n",
    "        super(Net, self).__init__()\n",
    "        self.conv1 = nn.Conv2d( 1, 10, kernel_size=5) #  1 channel coming in,  10 channels out\n",
    "        self.conv2 = nn.Conv2d(10, 20, kernel_size=5) # 10 channels coming in, 20 channels out\n",
    "        self.conv2_drop = nn.Dropout2d()\n",
    "        self.fc1   = nn.Linear(320, 50) # fully connected 4 x 4 x 20 = 320 inputs, 50 outputs\n",
    "        self.fc2   = nn.Linear( 50, 10) # fully connected, 50 inputs, 10 outputs, 1 for each integer\n",
    "        \n",
    "    def forward(self, x):\n",
    "        x = F.relu(F.max_pool2d(self.conv1(x), 2))\n",
    "        x = F.relu(F.max_pool2d(self.conv2_drop(self.conv2(x)), 2))\n",
    "        x = x.view(-1, 320)\n",
    "        x = F.relu(self.fc1(x))\n",
    "        x = F.dropout(x, training=self.training)  # self.training: Boolean, sets training or eval mode\n",
    "        x = self.fc2(x)\n",
    "        return F.log_softmax(x, dim=1)  # WS added dim=1 to avoid throwing warnings"
   ]
  },
  {
   "cell_type": "code",
   "execution_count": null,
   "id": "b12936a4-a6f6-4466-ae2b-51efa2a91f14",
   "metadata": {},
   "outputs": [],
   "source": [
    "network   = Net()\n",
    "optimizer = optim.SGD(network.parameters(), lr=learning_rate, momentum=momentum)"
   ]
  },
  {
   "cell_type": "code",
   "execution_count": null,
   "id": "0ab2b387-d73c-4f8d-ab75-2b7e07492ad7",
   "metadata": {},
   "outputs": [],
   "source": [
    "train_losses  = []\n",
    "train_counter = []\n",
    "test_losses   = []\n",
    "test_counter  = [i*len(train_loader.dataset) for i in range(n_epochs + 1)]"
   ]
  },
  {
   "cell_type": "code",
   "execution_count": null,
   "id": "e8ccb084-e143-40af-9bde-74a06d47212c",
   "metadata": {},
   "outputs": [],
   "source": [
    "test_counter"
   ]
  },
  {
   "cell_type": "code",
   "execution_count": null,
   "id": "8318dfe9-7f54-467a-b550-9d25b22e81e7",
   "metadata": {},
   "outputs": [],
   "source": [
    "def train(epoch):\n",
    "    network.train()\n",
    "    for batch_idx, (data, target) in enumerate(train_loader):\n",
    "        optimizer.zero_grad()\n",
    "        output = network(data)\n",
    "        loss   = F.nll_loss(output, target)\n",
    "        loss.backward()\n",
    "        optimizer.step()\n",
    "        if batch_idx % log_interval == 0:\n",
    "            ll = len(train_loader.dataset)\n",
    "            print('Train Epoch: {} [{}/{} ({:.0f}%)]\\tLoss: {:.6f}'.format(\n",
    "                  epoch, batch_idx * len(data), ll,\n",
    "                  100. * batch_idx / len(train_loader), loss.item()))\n",
    "            train_losses.append(loss.item())\n",
    "            train_counter.append((batch_idx * 64) + ((epoch - 1) * ll))\n",
    "            torch.save(network.state_dict(),   'results/model.pth')\n",
    "            torch.save(optimizer.state_dict(), 'results/optimizer.pth')"
   ]
  },
  {
   "cell_type": "code",
   "execution_count": null,
   "id": "b6a365b8-95b2-421a-960b-1cb70ea11eb7",
   "metadata": {},
   "outputs": [],
   "source": [
    "def test():\n",
    "    network.eval()\n",
    "    test_loss = 0\n",
    "    correct   = 0\n",
    "    with torch.no_grad():\n",
    "        for data, target in test_loader:\n",
    "            output     = network(data)\n",
    "            # nll: negative log likelihood, size_average is deprecated, 'reduction' default is 'mean'\n",
    "            test_loss += F.nll_loss(output, target, size_average=False).item()\n",
    "            pred       = output.data.max(1, keepdim=True)[1]\n",
    "            correct   += pred.eq(target.data.view_as(pred)).sum()\n",
    "    test_loss /= len(test_loader.dataset)\n",
    "    test_losses.append(test_loss)\n",
    "    print('\\nTest set: Avg. loss: {:.4f}, Accuracy: {}/{} ({:.0f}%)\\n'.format(\n",
    "          test_loss, correct, len(test_loader.dataset),\n",
    "          100. * correct / len(test_loader.dataset)))"
   ]
  },
  {
   "cell_type": "code",
   "execution_count": null,
   "id": "d6cc390f-a1e3-4aef-96d0-b3cbbf9f78af",
   "metadata": {},
   "outputs": [],
   "source": [
    "test() # before training, about 8% accuracy"
   ]
  },
  {
   "cell_type": "code",
   "execution_count": null,
   "id": "699cf52e-6bf4-461a-acdd-5eeb21a2af65",
   "metadata": {
    "tags": []
   },
   "outputs": [],
   "source": [
    "for epoch in range(1, n_epochs + 1):\n",
    "    train(epoch)\n",
    "    test()"
   ]
  },
  {
   "cell_type": "code",
   "execution_count": null,
   "id": "c67086cf-b42e-4c16-95a1-e28d19a136ed",
   "metadata": {
    "tags": []
   },
   "outputs": [],
   "source": [
    "fig = plt.figure(figsize=(14, 6))\n",
    "plt.plot(train_counter, train_losses, color='blue')\n",
    "plt.scatter(test_counter, test_losses, color='red')\n",
    "plt.grid()\n",
    "plt.legend(['Train Loss', 'Test Loss'], loc='upper right')\n",
    "plt.xlabel('number of training examples seen')\n",
    "plt.ylabel('negative log likelihood loss')"
   ]
  },
  {
   "cell_type": "code",
   "execution_count": null,
   "id": "dcd99b3f-6181-4e89-be70-a98ada4c638d",
   "metadata": {},
   "outputs": [],
   "source": [
    "with torch.no_grad():\n",
    "    output = network(example_data)"
   ]
  },
  {
   "cell_type": "code",
   "execution_count": null,
   "id": "efc07f8c-cfea-4965-859d-cc1eaa04f433",
   "metadata": {
    "tags": []
   },
   "outputs": [],
   "source": [
    "fig = plt.figure()\n",
    "for i in range(6):\n",
    "    plt.subplot(2,3,i+1)\n",
    "    plt.tight_layout()\n",
    "    plt.imshow(example_data[i][0], cmap='gray', interpolation='none')\n",
    "    plt.title(\"Prediction: {}\".format(\n",
    "    output.data.max(1, keepdim=True)[1][i].item()), c='w')\n",
    "    plt.xticks([])\n",
    "    plt.yticks([])"
   ]
  },
  {
   "cell_type": "code",
   "execution_count": null,
   "id": "dd363eaa-725e-4bc4-9140-197853412793",
   "metadata": {},
   "outputs": [],
   "source": [
    "# demo of how to keep training from checkpoints:\n",
    "network_state_dict = torch.load('results/model.pth')\n",
    "network = Net()\n",
    "network.load_state_dict(network_state_dict)\n",
    "\n",
    "optimizer_state_dict = torch.load('results/optimizer.pth')\n",
    "optimizer = optim.SGD(network.parameters(), lr=learning_rate, momentum=momentum)\n",
    "optimizer.load_state_dict(optimizer_state_dict)"
   ]
  },
  {
   "cell_type": "code",
   "execution_count": null,
   "id": "3cc757a7-a903-445d-8290-b21a22cff9ff",
   "metadata": {
    "tags": []
   },
   "outputs": [],
   "source": [
    "for epoch in range(1, n_epochs + 1):\n",
    "    train(epoch)\n",
    "    test()"
   ]
  },
  {
   "cell_type": "code",
   "execution_count": null,
   "id": "4a864491-8675-41f6-bd5a-e179b698e357",
   "metadata": {},
   "outputs": [],
   "source": [
    "with torch.no_grad():\n",
    "    output = network(example_data)"
   ]
  },
  {
   "cell_type": "code",
   "execution_count": null,
   "id": "0ad1f75b-22f5-4b34-85f2-f86af58025e3",
   "metadata": {},
   "outputs": [],
   "source": [
    "len(output)"
   ]
  },
  {
   "cell_type": "code",
   "execution_count": null,
   "id": "6c85ee1d-a301-4d44-ae75-38dc94895ba8",
   "metadata": {},
   "outputs": [],
   "source": [
    "for k in range(5):\n",
    "    print(output[k].argmax().item(), example_targets[k].item())"
   ]
  },
  {
   "cell_type": "code",
   "execution_count": null,
   "id": "87f86f78-faa8-4a92-a97a-9550692f1389",
   "metadata": {},
   "outputs": [],
   "source": [
    "# WS create a precision matrix showing confusion errors\n",
    "def precision(loader):  # loader is train_loader or test_loader\n",
    "    dd = torch.zeros(10, 10) # row is truth, col is prediction\n",
    "    network.eval()\n",
    "    with torch.no_grad():\n",
    "        for data, target in loader:\n",
    "            output = network(data)\n",
    "            for k in range(len(output)):\n",
    "                pred  = output[k].argmax().item()\n",
    "                truth = target[k].item()\n",
    "                dd[truth, pred] += 1\n",
    "    count = 0\n",
    "    for k in range(10):\n",
    "        count += dd[k, k]\n",
    "    print(f'accuracy = {100. * count / dd.sum():.4f}')\n",
    "    return dd.numpy()"
   ]
  },
  {
   "cell_type": "code",
   "execution_count": null,
   "id": "101f3585-96d4-4d75-a8f2-aa30313a53b0",
   "metadata": {},
   "outputs": [],
   "source": [
    "test_matrix = precision(test_loader)"
   ]
  },
  {
   "cell_type": "code",
   "execution_count": null,
   "id": "29445a55-1f3c-4810-b42d-44070c2774c9",
   "metadata": {},
   "outputs": [],
   "source": [
    "train_matrix = precision(train_loader)"
   ]
  },
  {
   "cell_type": "code",
   "execution_count": null,
   "id": "40a86094-ea10-4ed5-aeba-a7179a40a081",
   "metadata": {},
   "outputs": [],
   "source": [
    "plt.imshow(np.log(test_matrix + 1))"
   ]
  },
  {
   "cell_type": "code",
   "execution_count": null,
   "id": "bed8ce07-b636-48c6-83db-c3fb70690015",
   "metadata": {},
   "outputs": [],
   "source": [
    "plt.imshow(np.log(train_matrix + 1))"
   ]
  },
  {
   "cell_type": "code",
   "execution_count": null,
   "id": "5debd8a3-3409-4421-9490-c1c463132462",
   "metadata": {},
   "outputs": [],
   "source": [
    "for k0, k1 in test_loader:\n",
    "    print(k0.shape, k1.shape)"
   ]
  },
  {
   "cell_type": "code",
   "execution_count": null,
   "id": "e8921065-5396-4d76-995c-e9dffb4609c7",
   "metadata": {},
   "outputs": [],
   "source": []
  }
 ],
 "metadata": {
  "kernelspec": {
   "display_name": "Python 3 (ipykernel)",
   "language": "python",
   "name": "python3"
  },
  "language_info": {
   "codemirror_mode": {
    "name": "ipython",
    "version": 3
   },
   "file_extension": ".py",
   "mimetype": "text/x-python",
   "name": "python",
   "nbconvert_exporter": "python",
   "pygments_lexer": "ipython3",
   "version": "3.10.6"
  }
 },
 "nbformat": 4,
 "nbformat_minor": 5
}
