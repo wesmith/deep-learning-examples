{
 "cells": [
  {
   "cell_type": "markdown",
   "id": "57ee6bcd-ea48-4a4f-9ade-92898fe4e13f",
   "metadata": {},
   "source": [
    "# pytorch_mnist.ipynb\n",
    "# WESmith 06/26/23\n",
    "## Review of MNIST processing with pytorch.\n",
    "## see https://nextjournal.com/gkoehler/pytorch-mnist\n",
    "\n",
    "## 06/30/23 added capability to look at an embedding space in a modified network\n",
    "## 07/02/23 added ability to look at embedding space of any desired network layer"
   ]
  },
  {
   "cell_type": "code",
   "execution_count": null,
   "id": "a322f5e0-a08e-44b9-912f-f878d73ebebe",
   "metadata": {},
   "outputs": [],
   "source": [
    "data_dir = 'data'"
   ]
  },
  {
   "cell_type": "code",
   "execution_count": null,
   "id": "0ffb0f67-6d66-4b48-b78d-fda2fe4277c5",
   "metadata": {},
   "outputs": [],
   "source": [
    "import torch\n",
    "import torch.nn            as nn\n",
    "import torch.nn.functional as F\n",
    "import torch.optim         as optim\n",
    "import torchvision\n",
    "import numpy               as np\n",
    "import matplotlib.pyplot   as plt\n",
    "from sklearn.manifold import TSNE\n",
    "import os"
   ]
  },
  {
   "cell_type": "code",
   "execution_count": null,
   "id": "5244008d-428e-4e4b-a578-859387491a92",
   "metadata": {},
   "outputs": [],
   "source": [
    "data_dir         = 'data'\n",
    "model_path       = 'results/model.pth'\n",
    "optimizer_path   = 'results/optimizer.pth'\n",
    "batch_size_train = 64\n",
    "batch_size_test  = 1000\n",
    "learning_rate    = 0.01\n",
    "momentum         = 0.5\n",
    "log_interval     = 10  # WS (was 10)\n",
    "\n",
    "random_seed      = 42\n",
    "torch.backends.cudnn.enabled = False  # disable nondeterministic algorithms\n",
    "_ = torch.manual_seed(random_seed)"
   ]
  },
  {
   "cell_type": "markdown",
   "id": "54c0af54-4a39-419b-b0b3-fe7b2a619147",
   "metadata": {},
   "source": [
    "## SET UP DATA"
   ]
  },
  {
   "cell_type": "code",
   "execution_count": null,
   "id": "9fe0398a-5add-45b4-8966-9fbc1fe999c5",
   "metadata": {},
   "outputs": [],
   "source": [
    "train_data = torchvision.datasets.MNIST(data_dir, train=True, download=True,\n",
    "                                         transform=torchvision.transforms.Compose([\n",
    "                                             torchvision.transforms.ToTensor(),\n",
    "                                             torchvision.transforms.Normalize(\n",
    "                                             (0.1307,), (0.3081))]))  # predefined global mean, std"
   ]
  },
  {
   "cell_type": "code",
   "execution_count": null,
   "id": "dca8e2d0-4753-4906-beaf-56f25574f4e5",
   "metadata": {},
   "outputs": [],
   "source": [
    "train_loader = torch.utils.data.DataLoader(train_data, batch_size=batch_size_train, shuffle=True)"
   ]
  },
  {
   "cell_type": "code",
   "execution_count": null,
   "id": "ac32ab8e-a191-4853-ab94-9c94f1d9aa84",
   "metadata": {},
   "outputs": [],
   "source": [
    "test_data  = torchvision.datasets.MNIST(data_dir, train=False, download=True,\n",
    "                                         transform=torchvision.transforms.Compose([\n",
    "                                             torchvision.transforms.ToTensor(),\n",
    "                                             torchvision.transforms.Normalize(\n",
    "                                             (0.1307,), (0.3081))]))  # predefined global mean, std"
   ]
  },
  {
   "cell_type": "code",
   "execution_count": null,
   "id": "be63db53-f565-4c3c-a855-432ebf4a0caa",
   "metadata": {},
   "outputs": [],
   "source": [
    "test_loader = torch.utils.data.DataLoader(test_data, batch_size=batch_size_test, shuffle=True)"
   ]
  },
  {
   "cell_type": "code",
   "execution_count": null,
   "id": "2ce82438-e46d-4aad-826a-c93e92f01c17",
   "metadata": {},
   "outputs": [],
   "source": [
    "train_data.data.shape, train_data.targets.shape, test_data.data.shape, test_data.targets.shape"
   ]
  },
  {
   "cell_type": "code",
   "execution_count": null,
   "id": "c89b1123-d364-44de-97c4-af9c0b6f6e72",
   "metadata": {},
   "outputs": [],
   "source": [
    "# get the full test set for scatterplots below\n",
    "test_loader_full = torch.utils.data.DataLoader(test_data, batch_size=10000, shuffle=True)"
   ]
  },
  {
   "cell_type": "code",
   "execution_count": null,
   "id": "ee0a8767-6cec-4eaa-82b9-00282233875f",
   "metadata": {},
   "outputs": [],
   "source": [
    "_, (test_data_full, test_targ_full) = next(enumerate(test_loader_full))"
   ]
  },
  {
   "cell_type": "code",
   "execution_count": null,
   "id": "95ae5523-3215-4c82-820d-4bb74ddc042a",
   "metadata": {},
   "outputs": [],
   "source": [
    "test_data_full.shape, test_targ_full.shape"
   ]
  },
  {
   "cell_type": "markdown",
   "id": "19e0602d-5067-4fa8-9974-2e0a93e18b21",
   "metadata": {},
   "source": [
    "## CLASSES AND FUNCTIONS"
   ]
  },
  {
   "cell_type": "code",
   "execution_count": null,
   "id": "b6408479-259e-4c92-980a-0214f57cadb2",
   "metadata": {},
   "outputs": [],
   "source": [
    "# original model\n",
    "class Net(nn.Module):\n",
    "    def __init__(self):\n",
    "        super(Net, self).__init__()\n",
    "        self.conv1 = nn.Conv2d( 1, 10, kernel_size=5) #  1 channel coming in,  10 channels out\n",
    "        self.conv2 = nn.Conv2d(10, 20, kernel_size=5) # 10 channels coming in, 20 channels out\n",
    "        self.conv2_drop = nn.Dropout2d()\n",
    "        self.fc1   = nn.Linear(320, 50) # fully connected 4 x 4 x 20 = 320 inputs, 50 outputs\n",
    "        self.fc2   = nn.Linear( 50, 10) # fully connected, 50 inputs, 10 outputs, 1 for each integer\n",
    "        \n",
    "    def forward(self, x):\n",
    "        x = F.relu(F.max_pool2d(self.conv1(x), 2))\n",
    "        x = F.relu(F.max_pool2d(self.conv2_drop(self.conv2(x)), 2))\n",
    "        x = x.view(-1, 320)\n",
    "        x = F.relu(self.fc1(x))\n",
    "        x = F.dropout(x, training=self.training)  # self.training: Boolean, sets training or eval mode\n",
    "        x = self.fc2(x)\n",
    "        return F.log_softmax(x, dim=1)  # WS added dim=1 to avoid throwing warnings"
   ]
  },
  {
   "cell_type": "code",
   "execution_count": null,
   "id": "8d8c6d80-ad9c-4869-8d8d-62d73842d3c0",
   "metadata": {},
   "outputs": [],
   "source": [
    "# WS model that bottlenecks at 2 neurons, to see if a 2D embedding space can be visualized\n",
    "class Net2(nn.Module):\n",
    "    def __init__(self):\n",
    "        super(Net2, self).__init__()\n",
    "        self.conv1 = nn.Conv2d( 1, 10, kernel_size=5) #  1 channel coming in,  10 channels out\n",
    "        self.conv2 = nn.Conv2d(10, 20, kernel_size=5) # 10 channels coming in, 20 channels out\n",
    "        self.conv2_drop = nn.Dropout2d()\n",
    "        self.fc1   = nn.Linear(320, 50) # fully connected 4 x 4 x 20 = 320 inputs, 50 outputs\n",
    "        self.emb   = nn.Linear(50, 2)   # WS added to try to get a 2D embedding space\n",
    "        self.fc2   = nn.Linear(2, 10)   # WS modified to 2 inputs from 50, 10 outputs, 1 for each integer\n",
    "        \n",
    "    def forward(self, x):\n",
    "        x = F.relu(F.max_pool2d(self.conv1(x), 2))\n",
    "        x = F.relu(F.max_pool2d(self.conv2_drop(self.conv2(x)), 2))\n",
    "        x = x.view(-1, 320)\n",
    "        x = F.relu(self.fc1(x))\n",
    "        x = self.emb(x)  # WS mod\n",
    "        x = F.dropout(x, training=self.training)  # self.training: Boolean, sets training or eval mode\n",
    "        x = self.fc2(x)\n",
    "        return F.log_softmax(x, dim=1)  # WS added dim=1 to avoid throwing warnings"
   ]
  },
  {
   "cell_type": "code",
   "execution_count": null,
   "id": "7102ade6-b434-4855-a667-6fc545fca6d3",
   "metadata": {
    "tags": []
   },
   "outputs": [],
   "source": [
    "def train_over_epochs(n_epochs, model_path, optimizer_path, log_interval=100):\n",
    "    global train_losses\n",
    "    global train_counter\n",
    "    global test_losses\n",
    "    train_losses  = []\n",
    "    train_counter = []\n",
    "    test_losses   = []\n",
    "    test_counter  = [i*len(train_loader.dataset) for i in range(1, n_epochs + 1)]\n",
    "    for epoch in range(1, n_epochs + 1):\n",
    "        train(epoch, model_path, optimizer_path, log_interval=log_interval)\n",
    "        test()\n",
    "\n",
    "    fig = plt.figure(figsize=(14, 6))\n",
    "    plt.plot(train_counter, train_losses, color='blue')\n",
    "    plt.scatter(test_counter, test_losses, color='red')\n",
    "    plt.grid()\n",
    "    plt.legend(['Train Loss', 'Test Loss'], loc='upper right')\n",
    "    plt.xlabel('number of training examples seen')\n",
    "    plt.ylabel('negative log likelihood loss')"
   ]
  },
  {
   "cell_type": "code",
   "execution_count": null,
   "id": "8318dfe9-7f54-467a-b550-9d25b22e81e7",
   "metadata": {},
   "outputs": [],
   "source": [
    "def train(epoch, model_path, optimizer_path, log_interval=100):\n",
    "    global train_losses\n",
    "    global train_counter\n",
    "    network.train()\n",
    "    for batch_idx, (data, target) in enumerate(train_loader):\n",
    "        optimizer.zero_grad()\n",
    "        output = network(data)\n",
    "        loss   = F.nll_loss(output, target)\n",
    "        loss.backward()\n",
    "        optimizer.step()\n",
    "        if batch_idx % log_interval == 0:\n",
    "            ll = len(train_loader.dataset)\n",
    "            print('Train Epoch: {} [{}/{} ({:.0f}%)]\\tLoss: {:.6f}'.format(\n",
    "                  epoch, batch_idx * len(data), ll,\n",
    "                  100. * batch_idx / len(train_loader), loss.item()))\n",
    "            train_losses.append(loss.item())\n",
    "            train_counter.append((batch_idx * 64) + ((epoch - 1) * ll))\n",
    "            torch.save(network.state_dict(),   model_path)     #'results/model.pth')\n",
    "            torch.save(optimizer.state_dict(), optimizer_path) #'results/optimizer.pth')"
   ]
  },
  {
   "cell_type": "code",
   "execution_count": null,
   "id": "b6a365b8-95b2-421a-960b-1cb70ea11eb7",
   "metadata": {},
   "outputs": [],
   "source": [
    "def test():\n",
    "    global test_losses\n",
    "    network.eval()\n",
    "    test_loss = 0\n",
    "    correct   = 0\n",
    "    with torch.no_grad():\n",
    "        for data, target in test_loader:\n",
    "            output     = network(data)\n",
    "            # nll: negative log likelihood, size_average is deprecated, 'reduction' default is 'mean'\n",
    "            test_loss += F.nll_loss(output, target, reduction='sum').item() #size_average=False).item()\n",
    "            pred       = output.data.max(1, keepdim=True)[1]\n",
    "            correct   += pred.eq(target.data.view_as(pred)).sum()\n",
    "    test_loss /= len(test_loader.dataset)\n",
    "    test_losses.append(test_loss)\n",
    "    print(f'test_losses inside test(): {test_losses}')\n",
    "    print('\\nTest set: Avg. loss: {:.4f}, Accuracy: {}/{} ({:.0f}%)\\n'.format(\n",
    "          test_loss, correct, len(test_loader.dataset),\n",
    "          100. * correct / len(test_loader.dataset)))"
   ]
  },
  {
   "cell_type": "code",
   "execution_count": null,
   "id": "b8e5a281-6a6d-430d-b433-ab66a3b6809f",
   "metadata": {},
   "outputs": [],
   "source": [
    "def get_intermediate(model, name, input_tensor):\n",
    "    '''\n",
    "    access the output of an intermediate layer of a network\n",
    "    model: name of the network (str)\n",
    "    name:  name of the intermediate layer (str)\n",
    "           note: all layer names of a model can be seen by typing the model's name in a cell\n",
    "                 and executing that cell\n",
    "    '''\n",
    "    intermed = {}\n",
    "    def get_inter(name):\n",
    "        nonlocal intermed\n",
    "        def hook(model, input, output):\n",
    "            intermed[name] = output.detach()\n",
    "        return hook\n",
    "    \n",
    "    try:\n",
    "        # WS is there a simpler way to isolate a layer?\n",
    "        layer = list(model.modules())[0].__dict__['_modules'][name]\n",
    "    except:\n",
    "        print(f'layer {layer} not found')\n",
    "        return None\n",
    "    \n",
    "    hook_handle   = layer.register_forward_hook(get_inter(name))\n",
    "    output        = model(input_tensor)\n",
    "    hook_handle.remove()\n",
    "    \n",
    "    dd = intermed[name]\n",
    "    print(f'{name}: {layer}, with shape {list(dd.shape)} and size {dd.numel()}')\n",
    "    \n",
    "    return dd"
   ]
  },
  {
   "cell_type": "code",
   "execution_count": null,
   "id": "2afb1547-0da3-4bb5-8556-cca1048484b3",
   "metadata": {},
   "outputs": [],
   "source": [
    "def embedding_scatterplot(network, layer, data, targ, perplexity=10, \n",
    "                          figpath=None, verbose=1, wid=12, hei=12):\n",
    "    out = get_intermediate(network, layer, data)\n",
    "    norm_vectors = out/out.mean(dim=1, keepdim=True)\n",
    "    # compress the space to 2D for viewing\n",
    "    # NOTE: init='random' works better than init='PCA' (which produces almost no clusters)\n",
    "    pts = TSNE(n_components=2, perplexity=perplexity, \n",
    "               learning_rate='auto', init='random', \n",
    "               verbose=verbose).fit_transform(norm_vectors)\n",
    "    \n",
    "    targs = targ.numpy()\n",
    "    class_colors = {0:'r', 1:'g', 2:'b', 3:'c', 4:'m', 5:'y', 6:'w', \n",
    "                    7:'#BBBBBB', 8:'#FFAAAA', 9:'#AAFFAA'}\n",
    "\n",
    "    legend_handles = []\n",
    "    legend_labels  = []\n",
    "    for label, color in class_colors.items():\n",
    "        legend_handles.append(plt.Line2D([], [], marker='o', color='k', \n",
    "                                         markerfacecolor=color, markersize=10))\n",
    "        legend_labels.append(label)\n",
    "\n",
    "    fig, ax = plt.subplots(figsize=(wid, hei))\n",
    "    fig.patch.set_facecolor('#333333')\n",
    "    ax.set_facecolor('black')\n",
    "    ax.scatter(pts[:,0], pts[:,1], s=10, c=[class_colors[label] for label in targs])\n",
    "    ax.grid()\n",
    "    legend = ax.legend(legend_handles, legend_labels, facecolor='black')\n",
    "    for text in legend.get_texts():\n",
    "        text.set_color('white')\n",
    "    ax.set_title(f'TSNE compression for layer {layer}', color='w', fontsize=16)\n",
    "    if figpath:\n",
    "        plt.savefig(figpath)\n",
    "    plt.show()"
   ]
  },
  {
   "cell_type": "code",
   "execution_count": null,
   "id": "2498447e-d850-4570-b0fb-c280d3929683",
   "metadata": {},
   "outputs": [],
   "source": [
    "def show_digits(truth, predictions, data, idx, nr=5, nc=5, scal = 2.5):\n",
    "    # data = test_data_full\n",
    "    wid = int(nc * scal)\n",
    "    hei = int(nr * scal)\n",
    "    fig = plt.figure(figsize=(wid, hei))\n",
    "    num = nr * nc\n",
    "    for i in range(num):\n",
    "        plt.subplot(nr, nc, i+1)\n",
    "        plt.tight_layout()\n",
    "        j = idx[i]\n",
    "        true = truth[j]\n",
    "        pred = predictions.data.max(1, keepdim=True)[1][j].item()\n",
    "        cc = 'c' if true == pred else 'r' # mark errors with red text\n",
    "        plt.imshow(data[j][0], cmap='gray', interpolation='none')\n",
    "        plt.title(f'{j}, truth:{true}, pred:{pred}', c=cc)\n",
    "        plt.xticks([])\n",
    "        plt.yticks([])"
   ]
  },
  {
   "cell_type": "code",
   "execution_count": null,
   "id": "87f86f78-faa8-4a92-a97a-9550692f1389",
   "metadata": {},
   "outputs": [],
   "source": [
    "# WS create a precision matrix showing confusion errors\n",
    "def precision(loader):  # loader is train_loader or test_loader\n",
    "    dd = torch.zeros(10, 10) # row is truth, col is prediction\n",
    "    network.eval()\n",
    "    with torch.no_grad():\n",
    "        for data, target in loader:\n",
    "            output = network(data)\n",
    "            for k in range(len(output)):\n",
    "                pred  = output[k].argmax().item()\n",
    "                truth = target[k].item()\n",
    "                dd[truth, pred] += 1\n",
    "    count = 0\n",
    "    for k in range(10):\n",
    "        count += dd[k, k]\n",
    "    print(f'accuracy = {100. * count / dd.sum():.4f}')\n",
    "    return dd.numpy()"
   ]
  },
  {
   "cell_type": "code",
   "execution_count": null,
   "id": "69b98c8c-70f9-4266-a47a-1b0e6c94bb94",
   "metadata": {},
   "outputs": [],
   "source": [
    "def get_misclassified(output, target):\n",
    "    '''\n",
    "    get all mis-classified test images\n",
    "    '''\n",
    "    # get the predict vector over the batch: \n",
    "    #[0] are the max values, [1] is the 'argmax'\n",
    "    pred  = output.data.max(1, keepdim=True)[1]\n",
    "    # get truth in same vector format as pred\n",
    "    truth = target.data.view_as(pred)\n",
    "    # get a boolean vector of True/False \n",
    "    # where pred/truth agree/disagree\n",
    "    validate = pred.eq(truth).squeeze()\n",
    "    # return the indices of the batch samples with the False entries\n",
    "    return torch.nonzero(validate==False)"
   ]
  },
  {
   "cell_type": "markdown",
   "id": "1494901c-867f-4fc2-aa90-081e3e0ab977",
   "metadata": {},
   "source": [
    "## DEFINE NETWORK, LOAD PREVIOUS TRAINING AND/OR DO NEW TRAINING"
   ]
  },
  {
   "cell_type": "code",
   "execution_count": null,
   "id": "b12936a4-a6f6-4466-ae2b-51efa2a91f14",
   "metadata": {},
   "outputs": [],
   "source": [
    "network   = Net()\n",
    "optimizer = optim.SGD(network.parameters(), lr=learning_rate, momentum=momentum)"
   ]
  },
  {
   "cell_type": "code",
   "execution_count": null,
   "id": "38ac7924-7440-4ef7-be59-10e49222bdf6",
   "metadata": {},
   "outputs": [],
   "source": [
    "test() # before training, about 8% accuracy"
   ]
  },
  {
   "cell_type": "code",
   "execution_count": null,
   "id": "8985633f-a50a-4552-b7c3-107180c26179",
   "metadata": {},
   "outputs": [],
   "source": [
    "# see if previous training exists, if so, load, otherwise train\n",
    "if os.path.isfile(model_path) and os.path.isfile(optimizer_path):\n",
    "    network_state_dict = torch.load(model_path)\n",
    "    network.load_state_dict(network_state_dict)\n",
    "    optimizer_state_dict = torch.load(optimizer_path)\n",
    "    optimizer.load_state_dict(optimizer_state_dict)\n",
    "else:\n",
    "    n_epochs = 6\n",
    "    # train_over_epochs() saves model and optimizer state at each iteration\n",
    "    train_over_epochs(n_epochs, model_path, optimizer_path, log_interval=100)"
   ]
  },
  {
   "cell_type": "code",
   "execution_count": null,
   "id": "f8cce0c3-93ed-4ed5-83a2-304679f77805",
   "metadata": {},
   "outputs": [],
   "source": [
    "test()"
   ]
  },
  {
   "cell_type": "code",
   "execution_count": null,
   "id": "4a65a10f-26c9-4c9e-b68b-6fc1a7fe8357",
   "metadata": {
    "tags": []
   },
   "outputs": [],
   "source": [
    "# optional additional training\n",
    "n_epochs = 1\n",
    "train_over_epochs(n_epochs, model_path, optimizer_path, log_interval=100)"
   ]
  },
  {
   "cell_type": "markdown",
   "id": "ec8f91ee-3f20-4f0a-bb54-a25c042988c3",
   "metadata": {},
   "source": [
    "## EXAMINE INTERMEDIATE NETWORK LAYERS"
   ]
  },
  {
   "cell_type": "code",
   "execution_count": null,
   "id": "75268507-1379-4d3a-8f18-10105b5aedc8",
   "metadata": {
    "tags": []
   },
   "outputs": [],
   "source": [
    "# see all network layers\n",
    "network"
   ]
  },
  {
   "cell_type": "code",
   "execution_count": null,
   "id": "3cf75522-3de2-422c-bf9e-d4b3c1a73448",
   "metadata": {},
   "outputs": [],
   "source": [
    "upper     = 5000 # 10000 is max of test data\n",
    "layer     = 'fc1'\n",
    "acc       = '98%'  # previously measured accuracy with this test data\n",
    "figpath   = f'mnist_layer_{layer}_acc_{acc}.png'"
   ]
  },
  {
   "cell_type": "code",
   "execution_count": null,
   "id": "389692bd-a350-4ccc-9a3a-22e9b31c279e",
   "metadata": {
    "tags": []
   },
   "outputs": [],
   "source": [
    "embedding_scatterplot(network, layer, test_data_full[0:upper], test_targ_full[0:upper], figpath=figpath)"
   ]
  },
  {
   "cell_type": "code",
   "execution_count": null,
   "id": "2bd482c0-f277-4c41-af7d-9c68c3f800d8",
   "metadata": {},
   "outputs": [],
   "source": [
    "layer     = 'fc2'\n",
    "acc       = '98%'\n",
    "figpath   = f'mnist_layer_{layer}_acc_{acc}.png'"
   ]
  },
  {
   "cell_type": "code",
   "execution_count": null,
   "id": "c9bf3fdd-0d96-4eb8-a47d-c691f458e1ae",
   "metadata": {
    "tags": []
   },
   "outputs": [],
   "source": [
    "embedding_scatterplot(network, layer, test_data_full[0:upper], test_targ_full[0:upper], figpath=figpath)"
   ]
  },
  {
   "cell_type": "markdown",
   "id": "69c27e54-2049-4223-ba83-1fd4d3d28b59",
   "metadata": {},
   "source": [
    "## LOOK AT TRUTH AND PREDICTIONS"
   ]
  },
  {
   "cell_type": "code",
   "execution_count": null,
   "id": "dcd99b3f-6181-4e89-be70-a98ada4c638d",
   "metadata": {},
   "outputs": [],
   "source": [
    "with torch.no_grad():\n",
    "    predictions = network(test_data_full)\n",
    "truth = test_targ_full # convenience variable for what follows"
   ]
  },
  {
   "cell_type": "code",
   "execution_count": null,
   "id": "a9acd84e-666e-4c28-a646-93442b013871",
   "metadata": {},
   "outputs": [],
   "source": [
    "predictions.shape, test_targ_full.shape, truth.shape"
   ]
  },
  {
   "cell_type": "code",
   "execution_count": null,
   "id": "fa3b1db3-7925-4f89-9405-752763fae8ce",
   "metadata": {},
   "outputs": [],
   "source": [
    "nr, nc = (5, 6)\n",
    "num = nr * nc\n",
    "idx = torch.randint(0, test_data_full.shape[0], (num,))\n",
    "show_digits(truth, predictions, test_data_full, idx, nr=nr, nc=nc)"
   ]
  },
  {
   "cell_type": "markdown",
   "id": "8c374c02-0709-446e-9df3-cba868568542",
   "metadata": {},
   "source": [
    "## GET ALL INCORRECT CLASSIFICATIONS FROM TEST DATA \n",
    "## AND DISPLAY SAMPLES"
   ]
  },
  {
   "cell_type": "code",
   "execution_count": null,
   "id": "03258a31-b3a0-4aca-9fff-af21bb82bcab",
   "metadata": {},
   "outputs": [],
   "source": [
    "nr, nc = (5, 6)\n",
    "indices = get_misclassified(predictions, truth)\n",
    "num = nr * nc\n",
    "random_indices = torch.randperm(len(indices))[:num]\n",
    "# Select random elements from the misclassified list\n",
    "idx = [indices[i].item() for i in random_indices]\n",
    "show_digits(truth, predictions, test_data_full, idx, nr=nr, nc=nc)"
   ]
  },
  {
   "cell_type": "code",
   "execution_count": null,
   "id": "3d4bd268-732d-4e53-a791-e5ef73b92ea7",
   "metadata": {},
   "outputs": [],
   "source": [
    "# WS note: Net2() with 2-neuron bottleneck performance is down to 93% accuracy after 6 epochs,\n",
    "# compared to 98% accuracy with original network"
   ]
  },
  {
   "cell_type": "code",
   "execution_count": null,
   "id": "4a864491-8675-41f6-bd5a-e179b698e357",
   "metadata": {},
   "outputs": [],
   "source": [
    "with torch.no_grad():\n",
    "    output = network(example_data)"
   ]
  },
  {
   "cell_type": "code",
   "execution_count": null,
   "id": "0ad1f75b-22f5-4b34-85f2-f86af58025e3",
   "metadata": {},
   "outputs": [],
   "source": [
    "len(output)"
   ]
  },
  {
   "cell_type": "code",
   "execution_count": null,
   "id": "6c85ee1d-a301-4d44-ae75-38dc94895ba8",
   "metadata": {},
   "outputs": [],
   "source": [
    "for k in range(5):\n",
    "    print(output[k].argmax().item(), example_targets[k].item())"
   ]
  },
  {
   "cell_type": "code",
   "execution_count": null,
   "id": "101f3585-96d4-4d75-a8f2-aa30313a53b0",
   "metadata": {},
   "outputs": [],
   "source": [
    "test_matrix = precision(test_loader)"
   ]
  },
  {
   "cell_type": "code",
   "execution_count": null,
   "id": "29445a55-1f3c-4810-b42d-44070c2774c9",
   "metadata": {},
   "outputs": [],
   "source": [
    "train_matrix = precision(train_loader)"
   ]
  },
  {
   "cell_type": "code",
   "execution_count": null,
   "id": "40a86094-ea10-4ed5-aeba-a7179a40a081",
   "metadata": {},
   "outputs": [],
   "source": [
    "plt.imshow(np.log(test_matrix + 1))\n",
    "plt.show()"
   ]
  },
  {
   "cell_type": "code",
   "execution_count": null,
   "id": "bed8ce07-b636-48c6-83db-c3fb70690015",
   "metadata": {},
   "outputs": [],
   "source": [
    "plt.imshow(np.log(train_matrix + 1))\n",
    "plt.show()"
   ]
  },
  {
   "cell_type": "code",
   "execution_count": null,
   "id": "5debd8a3-3409-4421-9490-c1c463132462",
   "metadata": {
    "tags": []
   },
   "outputs": [],
   "source": [
    "#for k0, k1 in test_loader:\n",
    "    #print(k0.shape, k1.shape)"
   ]
  },
  {
   "cell_type": "markdown",
   "id": "a643103b-7d59-4527-a132-fa828426f9ec",
   "metadata": {},
   "source": [
    "## MODIFY THE NETWORK TO INCLUDE A 'BOTTLENECK' 2D EMBEDDING LAYER\n",
    "## THAT CAN BE PLOTTED DIRECTLY WITHOUT TSNE"
   ]
  },
  {
   "cell_type": "code",
   "execution_count": null,
   "id": "062238c2-7286-493d-991b-d5cf5cb1f8fd",
   "metadata": {},
   "outputs": [],
   "source": [
    "network   = Net2()\n",
    "optimizer = optim.SGD(network.parameters(), lr=learning_rate, momentum=momentum)"
   ]
  },
  {
   "cell_type": "raw",
   "id": "08ca4cb5-7e67-4dc5-8009-8f52c41335be",
   "metadata": {
    "tags": []
   },
   "source": [
    "n_epochs = 3\n",
    "for epoch in range(1, n_epochs + 1):\n",
    "    train(epoch)\n",
    "    test()"
   ]
  },
  {
   "cell_type": "code",
   "execution_count": null,
   "id": "38da3d5d-feb1-4407-9bf0-a8ba5b2061e2",
   "metadata": {},
   "outputs": [],
   "source": [
    "# WS note: Net2() with 2-neuron bottleneck performance is down to 93% accuracy after 6 epochs,\n",
    "# compared to 98% accuracy with original network"
   ]
  },
  {
   "cell_type": "code",
   "execution_count": null,
   "id": "e8921065-5396-4d76-995c-e9dffb4609c7",
   "metadata": {},
   "outputs": [],
   "source": [
    "network"
   ]
  },
  {
   "cell_type": "code",
   "execution_count": null,
   "id": "2e915fe1-e0d2-49c1-88b5-2f4ce5acd943",
   "metadata": {},
   "outputs": [],
   "source": [
    "example_data[0].shape"
   ]
  },
  {
   "cell_type": "code",
   "execution_count": null,
   "id": "ce70c245-55c6-426d-94c4-989830e226a3",
   "metadata": {},
   "outputs": [],
   "source": [
    "network(example_data[0:3])"
   ]
  },
  {
   "cell_type": "code",
   "execution_count": null,
   "id": "afa3b772-6dff-4e5f-8496-222c213b6968",
   "metadata": {},
   "outputs": [],
   "source": [
    "example_targets[0:3]"
   ]
  },
  {
   "cell_type": "code",
   "execution_count": null,
   "id": "079f695e-5d7f-471e-892c-f45de84aa5f5",
   "metadata": {},
   "outputs": [],
   "source": [
    "network"
   ]
  },
  {
   "cell_type": "code",
   "execution_count": null,
   "id": "cf6633f4-927a-42da-becd-311499472639",
   "metadata": {},
   "outputs": [],
   "source": []
  }
 ],
 "metadata": {
  "kernelspec": {
   "display_name": "Python 3 (ipykernel)",
   "language": "python",
   "name": "python3"
  },
  "language_info": {
   "codemirror_mode": {
    "name": "ipython",
    "version": 3
   },
   "file_extension": ".py",
   "mimetype": "text/x-python",
   "name": "python",
   "nbconvert_exporter": "python",
   "pygments_lexer": "ipython3",
   "version": "3.10.6"
  }
 },
 "nbformat": 4,
 "nbformat_minor": 5
}
