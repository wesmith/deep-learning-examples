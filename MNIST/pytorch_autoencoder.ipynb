{
 "cells": [
  {
   "cell_type": "markdown",
   "id": "44e282b9-9032-458a-bd57-d26d745e420e",
   "metadata": {},
   "source": [
    "# pytorch_autoencoder.ipynb\n",
    "# WESmith 07/08/23\n",
    "## reference https://www.youtube.com/watch?v=zp8clK9yCro"
   ]
  },
  {
   "cell_type": "code",
   "execution_count": null,
   "id": "d764d731-ff89-4835-93fc-4a07950e2a28",
   "metadata": {},
   "outputs": [],
   "source": [
    "import torch\n",
    "import torch.nn as nn\n",
    "import torch.optim as optim\n",
    "from torchvision import datasets, transforms\n",
    "import matplotlib.pyplot as plt"
   ]
  },
  {
   "cell_type": "code",
   "execution_count": null,
   "id": "f0581f53-0d53-4e11-a4e2-90e4eee6e7f6",
   "metadata": {},
   "outputs": [],
   "source": [
    "transform = transforms.ToTensor()"
   ]
  },
  {
   "cell_type": "code",
   "execution_count": null,
   "id": "e86c8486-085e-4783-986f-b7ccbf62097d",
   "metadata": {},
   "outputs": [],
   "source": [
    "batch_size       = 64\n",
    "lr               = 1e-3\n",
    "decay            = 1e-5\n",
    "data_dir         = 'data'\n",
    "model_path       = 'results/model_autoencoder.pth'\n",
    "optimizer_path   = 'results/optimizer_autoencoder.pth'"
   ]
  },
  {
   "cell_type": "code",
   "execution_count": null,
   "id": "5105d29c-7aed-44cd-aae0-b6655f8b66e4",
   "metadata": {},
   "outputs": [],
   "source": [
    "mnist_data = datasets.MNIST(root=data_dir, train=True, download=True, transform=transform)"
   ]
  },
  {
   "cell_type": "code",
   "execution_count": null,
   "id": "c2dbe91a-cd77-48b2-a05c-f7ebd33c1adb",
   "metadata": {},
   "outputs": [],
   "source": [
    "mnist_data.data.shape"
   ]
  },
  {
   "cell_type": "code",
   "execution_count": null,
   "id": "6cff5cdb-45ee-4365-8684-5313fd18956b",
   "metadata": {},
   "outputs": [],
   "source": [
    "data_loader = torch.utils.data.DataLoader(dataset=mnist_data, batch_size=batch_size, shuffle=True)"
   ]
  },
  {
   "cell_type": "code",
   "execution_count": null,
   "id": "39529196-a9e8-4963-97c6-619fdd8c3735",
   "metadata": {},
   "outputs": [],
   "source": [
    "#torch.utils.data.DataLoader?"
   ]
  },
  {
   "cell_type": "code",
   "execution_count": null,
   "id": "0ca7fd41-aedc-4cab-b0f0-1150ef40b49a",
   "metadata": {},
   "outputs": [],
   "source": [
    "# examine the data\n",
    "dataiter = iter(data_loader)\n",
    "images, labels = next(dataiter)"
   ]
  },
  {
   "cell_type": "code",
   "execution_count": null,
   "id": "b318ec1b-3e27-4da8-b942-a05518b83b1e",
   "metadata": {},
   "outputs": [],
   "source": [
    "images.shape, labels.shape  # apparently the DataLoader introduces the singleton dimension"
   ]
  },
  {
   "cell_type": "code",
   "execution_count": null,
   "id": "675f480a-3733-4942-a8a3-80f3e692694e",
   "metadata": {},
   "outputs": [],
   "source": [
    "torch.min(images), torch.max(images)"
   ]
  },
  {
   "cell_type": "code",
   "execution_count": null,
   "id": "9b9eb2b5-f226-47ab-8ab1-32a2bbc8bbb6",
   "metadata": {},
   "outputs": [],
   "source": [
    "class Autoencoder(nn.Module):\n",
    "    \n",
    "    def __init__(self):\n",
    "        super().__init__()\n",
    "        self.encoder = nn.Sequential(\n",
    "            nn.Linear(28*28, 128),\n",
    "            nn.ReLU(),\n",
    "            nn.Linear(128, 64),\n",
    "            nn.ReLU(),\n",
    "            nn.Linear(64, 12),\n",
    "            nn.ReLU(),\n",
    "            nn.Linear(12, 3))\n",
    "        self.decoder = nn.Sequential(\n",
    "            nn.Linear(3, 12),\n",
    "            nn.ReLU(),\n",
    "            nn.Linear(12, 64),\n",
    "            nn.ReLU(),\n",
    "            nn.Linear(64, 128),\n",
    "            nn.ReLU(),\n",
    "            nn.Linear(128, 28*28),\n",
    "            nn.Sigmoid())  # use sigmoid since 0 to 1\n",
    "        \n",
    "    def forward(self, x):\n",
    "        encoded = self.encoder(x)\n",
    "        decoded = self.decoder(encoded)\n",
    "        return decoded"
   ]
  },
  {
   "cell_type": "code",
   "execution_count": null,
   "id": "d715cc03-8ee7-4b35-a679-8c6b034478e3",
   "metadata": {},
   "outputs": [],
   "source": [
    "model     = Autoencoder()\n",
    "loss_fn   = nn.MSELoss()\n",
    "optimizer = optim.Adam(model.parameters(), lr=lr, weight_decay=decay)"
   ]
  },
  {
   "cell_type": "code",
   "execution_count": null,
   "id": "4ef4c58f-6dcf-4abe-b110-ed793b87fc6e",
   "metadata": {},
   "outputs": [],
   "source": [
    "count = 0\n",
    "for k in model.parameters():\n",
    "    count += k.numel()\n",
    "count"
   ]
  },
  {
   "cell_type": "code",
   "execution_count": null,
   "id": "0d3cd675-f004-461f-849f-adde676cd767",
   "metadata": {},
   "outputs": [],
   "source": [
    "n_epochs = 5  # 5 epochs took 1m 30s to run on acer\n",
    "outputs= []\n",
    "for epoch in range(n_epochs):\n",
    "    for (img, _) in data_loader:\n",
    "        img   = img.reshape(-1, 28*28)\n",
    "        recon = model(img)\n",
    "        #print(img.shape)\n",
    "        #print(recon.shape)\n",
    "        loss  = loss_fn(recon, img)\n",
    "        \n",
    "        optimizer.zero_grad()\n",
    "        loss.backward()\n",
    "        optimizer.step()\n",
    "\n",
    "    print(f'Epoch: {epoch + 1}, Loss: {loss.item():.4f}')\n",
    "    outputs.append((epoch, img, recon))"
   ]
  },
  {
   "cell_type": "code",
   "execution_count": null,
   "id": "db6bc446-1197-4255-b0d9-44165289e2c9",
   "metadata": {},
   "outputs": [],
   "source": [
    "nc = 12\n",
    "for k in range(0, n_epochs, 4):\n",
    "    plt.figure(figsize=(14,2))\n",
    "    plt.gray()\n",
    "    imgs  = outputs[k][1].detach().numpy()\n",
    "    recon = outputs[k][2].detach().numpy()\n",
    "    for i, item in enumerate(imgs):\n",
    "        if i >= nc: break\n",
    "        plt.subplot(2, nc, i+1)\n",
    "        item = item.reshape(-1, 28, 28)\n",
    "        # item is (1, 28, 28) with singleton from data_loader\n",
    "        plt.imshow(item[0])\n",
    "        \n",
    "    for i, item in enumerate(recon):\n",
    "        if i >= nc: break\n",
    "        plt.subplot(2, nc, nc+i+1)\n",
    "        item = item.reshape(-1, 28, 28)\n",
    "        plt.imshow(item[0]) # also a singleton, so take [0]"
   ]
  },
  {
   "cell_type": "code",
   "execution_count": null,
   "id": "61e6b177-a59d-4fdc-94f3-ca3c1beb8b22",
   "metadata": {},
   "outputs": [],
   "source": [
    "class ConvAutoencoder(nn.Module):\n",
    "    \n",
    "    def __init__(self):\n",
    "        super().__init__()\n",
    "        self.encoder = nn.Sequential(\n",
    "            nn.Conv2d(1, 16, 3, stride=2, padding=1), # N,1,28,28 -> N,16,14,14\n",
    "            nn.ReLU(),\n",
    "            nn.Conv2d(16, 32, 3, stride=2, padding=1), # N,16,14,14 -> N,32,7,7\n",
    "            nn.ReLU(),\n",
    "            nn.Conv2d(32, 64, 7)) # N,32,7,7 -> N,64,1,1\n",
    "        self.decoder = nn.Sequential(\n",
    "            nn.ConvTranspose2d(64, 32, 7), # N,64,1,1 -> N,32,7,7\n",
    "            nn.ReLU(),\n",
    "            nn.ConvTranspose2d(32, 16, 3, stride=2, padding=1, output_padding=1), # N,32,7,7 -> N,16,14,14\n",
    "            nn.ReLU(),\n",
    "            nn.ConvTranspose2d(16,  1, 3, stride=2, padding=1, output_padding=1), # N,16,14,14 -> N,1,28,28\n",
    "            nn.Sigmoid())  # use sigmoid since 0 to 1\n",
    "        \n",
    "    def forward(self, x):\n",
    "        encoded = self.encoder(x)\n",
    "        decoded = self.decoder(encoded)\n",
    "        return decoded"
   ]
  },
  {
   "cell_type": "code",
   "execution_count": null,
   "id": "781c4819-2f7d-45c5-9dce-c6267853c5c7",
   "metadata": {},
   "outputs": [],
   "source": [
    "model_conv = ConvAutoencoder()\n",
    "loss_fn    = nn.MSELoss()\n",
    "optim_conv = optim.Adam(model_conv.parameters(), lr=lr, weight_decay=decay)"
   ]
  },
  {
   "cell_type": "code",
   "execution_count": null,
   "id": "4ea755eb-d5fb-4075-97fa-648014d66ce2",
   "metadata": {},
   "outputs": [],
   "source": [
    "count = 0\n",
    "for k in model_conv.parameters():\n",
    "    count += k.numel()\n",
    "count"
   ]
  },
  {
   "cell_type": "code",
   "execution_count": null,
   "id": "bbaabf84-7559-4589-82a8-8caacc1001da",
   "metadata": {},
   "outputs": [],
   "source": [
    "n_epochs = 5  # 5 epochs took 1m 30s to run on acer for conv model also: about same num of params\n",
    "outputs_conv= []\n",
    "for epoch in range(n_epochs):\n",
    "    for (img, _) in data_loader:\n",
    "        #img   = img.reshape(-1, 28*28)\n",
    "        recon = model_conv(img)\n",
    "        loss  = loss_fn(recon, img)\n",
    "        \n",
    "        optim_conv.zero_grad()\n",
    "        loss.backward()\n",
    "        optim_conv.step()\n",
    "\n",
    "    print(f'Epoch: {epoch + 1}, Loss: {loss.item():.4f}')\n",
    "    outputs_conv.append((epoch, img, recon))"
   ]
  },
  {
   "cell_type": "code",
   "execution_count": null,
   "id": "2522f3bf-303a-48f6-8d51-8e6f430239da",
   "metadata": {},
   "outputs": [],
   "source": [
    "nc = 20\n",
    "for k in range(0, n_epochs, 4):\n",
    "    plt.figure(figsize=(16,2))\n",
    "    plt.gray()\n",
    "    imgs  = outputs_conv[k][1].detach().numpy()\n",
    "    recon = outputs_conv[k][2].detach().numpy()\n",
    "    for i, item in enumerate(imgs):\n",
    "        if i >= nc: break\n",
    "        plt.subplot(2, nc, i+1)\n",
    "        item = item.reshape(-1, 28, 28)\n",
    "        # item is (1, 28, 28) with singleton from data_loader\n",
    "        plt.imshow(item[0])\n",
    "        \n",
    "    for i, item in enumerate(recon):\n",
    "        if i >= nc: break\n",
    "        plt.subplot(2, nc, nc+i+1)\n",
    "        item = item.reshape(-1, 28, 28)\n",
    "        plt.imshow(item[0]) # also a singleton, so take [0]"
   ]
  },
  {
   "cell_type": "code",
   "execution_count": null,
   "id": "1dadc5e8-1a63-491a-aab2-986829cd3da0",
   "metadata": {},
   "outputs": [],
   "source": []
  }
 ],
 "metadata": {
  "kernelspec": {
   "display_name": "Python 3 (ipykernel)",
   "language": "python",
   "name": "python3"
  },
  "language_info": {
   "codemirror_mode": {
    "name": "ipython",
    "version": 3
   },
   "file_extension": ".py",
   "mimetype": "text/x-python",
   "name": "python",
   "nbconvert_exporter": "python",
   "pygments_lexer": "ipython3",
   "version": "3.10.6"
  }
 },
 "nbformat": 4,
 "nbformat_minor": 5
}
