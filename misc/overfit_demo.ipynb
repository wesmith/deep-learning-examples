{
 "cells": [
  {
   "cell_type": "markdown",
   "id": "2b483afb-0086-4842-ad54-3829ae375239",
   "metadata": {},
   "source": [
    "# overfit_demo.ipynb\n",
    "# WESmith 06/27/23\n",
    "## Demonstrate underfittig/overfitting of simple functions using pytorch\n",
    "## using some techniques from\n",
    "### https://pytorch.org/tutorials/beginner/pytorch_with_examples.html?highlight=polynomial"
   ]
  },
  {
   "cell_type": "code",
   "execution_count": null,
   "id": "37a2e75a-2abd-439b-837e-4da4df7bf79b",
   "metadata": {},
   "outputs": [],
   "source": [
    "import torch\n",
    "import torch.nn as nn\n",
    "import math\n",
    "import matplotlib.pyplot as plt"
   ]
  },
  {
   "cell_type": "code",
   "execution_count": null,
   "id": "99dd51a3-3270-4172-b790-2edba7b5df17",
   "metadata": {},
   "outputs": [],
   "source": [
    "lim         = 1.5\n",
    "npts        = 1000\n",
    "max_order   = 5 # maximum polynomial order to use\n",
    "noise_scale = 1.0"
   ]
  },
  {
   "cell_type": "code",
   "execution_count": null,
   "id": "e5f4251d-439d-471c-9971-8be80fe1baa8",
   "metadata": {},
   "outputs": [],
   "source": [
    "min, max = (-lim, lim) #(-0.1, 0.1)  # x limits\n",
    "x = torch.linspace(min, max, npts)"
   ]
  },
  {
   "cell_type": "markdown",
   "id": "c18b4ed5-35f1-4d23-9b5a-d983cdde15b2",
   "metadata": {},
   "source": [
    "## POLYNOMIAL BASIS USED TO CREATE DATA AND TO FIT THE NOISY DATA"
   ]
  },
  {
   "cell_type": "code",
   "execution_count": null,
   "id": "b0b83c11-329c-493e-828c-a9f5afc8b0be",
   "metadata": {
    "tags": []
   },
   "outputs": [],
   "source": [
    "p  = torch.tensor(range(max_order + 1))\n",
    "xx = x.unsqueeze(-1).pow(p)  # important to turn (npts) vector into (npts,1) vector for this to work\n",
    "fig = plt.figure(figsize=(6, 6))\n",
    "plt.plot(x, xx)\n",
    "plt.grid()\n",
    "plt.show()"
   ]
  },
  {
   "cell_type": "code",
   "execution_count": null,
   "id": "499a7e91-adbb-4ecd-a665-fca82c63140a",
   "metadata": {},
   "outputs": [],
   "source": [
    "# set seed here if desired\n",
    "coeffs  = torch.randn(max_order + 1)\n",
    "y       = xx @ coeffs  # clean random signal using polynomial basis\n",
    "train   = y + noise_scale * torch.randn(npts)  # noisy signal\n",
    "test    = y + noise_scale * torch.randn(npts)"
   ]
  },
  {
   "cell_type": "code",
   "execution_count": null,
   "id": "f9473b85-406c-4132-aadf-95d62a261207",
   "metadata": {
    "tags": []
   },
   "outputs": [],
   "source": [
    "fig = plt.figure(figsize=(12, 6))\n",
    "plt.plot(x, y,     'r',  label='original')\n",
    "plt.plot(x, train, 'b.', label='training')\n",
    "plt.plot(x, test,  'g.', label='testing')\n",
    "plt.legend()\n",
    "plt.grid()\n",
    "plt.show()"
   ]
  },
  {
   "cell_type": "code",
   "execution_count": null,
   "id": "151843e8-58cf-4edc-8d1c-a65d9c044a30",
   "metadata": {},
   "outputs": [],
   "source": [
    "# this model uses the fixed polynomial basis as input: it is just estimating\n",
    "# the max_order + 1 unknown polynomial coefficients\n",
    "model = nn.Sequential(nn.Linear(max_order + 1, 1), nn.Flatten(0, 1))"
   ]
  },
  {
   "cell_type": "code",
   "execution_count": null,
   "id": "d09da89c-24cf-4e5e-8d3e-163ce4619449",
   "metadata": {},
   "outputs": [],
   "source": [
    "# explanation of model dimensions:\n",
    "# (n_samples, max_order + 1) input array x (max_order + 1) array to be trained = (n_samples x 1)\n",
    "# nn.Flatten(0, 1) transforms (n_samples x 1) array into (n_samples) array output\n",
    "# nn.Flatten(start_dim, end_dim) multiplies start_dim x intermediate_dims x end_dim to flatten that range\n",
    "# see nn.Flatten? examples\n",
    "#nn.Flatten?"
   ]
  },
  {
   "cell_type": "code",
   "execution_count": null,
   "id": "16ae91c1-19c5-4168-9b8f-38ec80e8f9ac",
   "metadata": {},
   "outputs": [],
   "source": [
    "loss_fn = nn.MSELoss(reduction='sum')"
   ]
  },
  {
   "cell_type": "code",
   "execution_count": null,
   "id": "ddd4132e-61d9-4778-b071-983d8935da84",
   "metadata": {},
   "outputs": [],
   "source": [
    "lr = 1e-3  # learning rate\n",
    "optimizer = torch.optim.RMSprop(model.parameters(), lr=lr)"
   ]
  },
  {
   "cell_type": "code",
   "execution_count": null,
   "id": "32759c81-74e0-4890-82f1-f8e57c670c37",
   "metadata": {
    "tags": []
   },
   "outputs": [],
   "source": [
    "def train_model(n_iter, train, test):\n",
    "    for t in range(n_iter):\n",
    "        # xx ix the fixed polynomial basis, the model() contains the learned coefficients\n",
    "        # NOTE that this isn't the usual paradigm for NN training: normally the training set\n",
    "        # is input to the model, and the target is compared to the predictions; here the training\n",
    "        # set is the target\n",
    "        y_pred = model(xx)\n",
    "        loss = loss_fn(y_pred, train)\n",
    "        if t % 200 == 0:\n",
    "            with torch.no_grad(): # make sure gradients aren't affected\n",
    "                loss_test = loss_fn(y_pred, test)\n",
    "            print(f'iter: {t:5}, train: {loss.item():10.3f}, test: {loss_test.item():10.3f}')\n",
    "        optimizer.zero_grad()\n",
    "        loss.backward()\n",
    "        optimizer.step()"
   ]
  },
  {
   "cell_type": "code",
   "execution_count": null,
   "id": "d0131551-d5a0-4a96-ad4f-490a688a1f31",
   "metadata": {},
   "outputs": [],
   "source": [
    "train_model(2001, train, test)"
   ]
  },
  {
   "cell_type": "code",
   "execution_count": null,
   "id": "d976ae02-411c-417a-8290-5af755d81707",
   "metadata": {},
   "outputs": [],
   "source": [
    "#model[0].bias, model[0].weight, coeffs"
   ]
  },
  {
   "cell_type": "code",
   "execution_count": null,
   "id": "99180c76-0b7a-4443-b10c-1c7085928097",
   "metadata": {},
   "outputs": [],
   "source": [
    "model(xx).shape"
   ]
  },
  {
   "cell_type": "code",
   "execution_count": null,
   "id": "3f48afd9-848c-489a-b60c-5e7fdd415049",
   "metadata": {
    "tags": []
   },
   "outputs": [],
   "source": [
    "fig = plt.figure(figsize=(12, 6))\n",
    "plt.plot(x, y, 'r', label='true')\n",
    "plt.plot(x, model(xx).detach().numpy(), 'b', label='estimate')\n",
    "plt.grid()\n",
    "plt.legend()\n",
    "plt.show()"
   ]
  },
  {
   "cell_type": "markdown",
   "id": "22d46705-ff04-4f2d-ac5d-02e629c89d35",
   "metadata": {},
   "source": [
    "## FIT POLYNOMIAL TO SINE"
   ]
  },
  {
   "cell_type": "code",
   "execution_count": null,
   "id": "03db6ede-2e33-496d-94f2-dd7941eeb1b3",
   "metadata": {},
   "outputs": [],
   "source": [
    "npts        = 1000\n",
    "max_order   = 3 # maximum polynomial order to use\n",
    "noise_scale = 1.0"
   ]
  },
  {
   "cell_type": "code",
   "execution_count": null,
   "id": "f6812c07-37fd-469d-b49e-d568c9f117d1",
   "metadata": {},
   "outputs": [],
   "source": [
    "x = torch.linspace(-math.pi, math.pi, npts)"
   ]
  },
  {
   "cell_type": "code",
   "execution_count": null,
   "id": "0a1fb26f-6e68-47b4-a977-f59f9a9a499f",
   "metadata": {},
   "outputs": [],
   "source": [
    "p  = torch.tensor(range(max_order + 1))\n",
    "xx = x.unsqueeze(-1).pow(p)"
   ]
  },
  {
   "cell_type": "code",
   "execution_count": null,
   "id": "3605b5ed-e5b8-4f87-aacc-9bb61b93a0df",
   "metadata": {},
   "outputs": [],
   "source": [
    "ysin = torch.sin(x)\n",
    "fig = plt.figure(figsize=(10, 6))\n",
    "plt.plot(x, ysin)\n",
    "plt.grid()"
   ]
  },
  {
   "cell_type": "code",
   "execution_count": null,
   "id": "131b74e4-1393-4e34-b69d-7dcb44c6b32a",
   "metadata": {},
   "outputs": [],
   "source": [
    "model   = nn.Sequential(nn.Linear(max_order + 1, 1), nn.Flatten(0, 1))\n",
    "loss_fn = nn.MSELoss(reduction='sum')\n",
    "lr      = 1e-3  # learning rate\n",
    "optimizer = torch.optim.RMSprop(model.parameters(), lr=lr)"
   ]
  },
  {
   "cell_type": "code",
   "execution_count": null,
   "id": "f20800c2-f43a-41b3-89a0-8b99a109de48",
   "metadata": {},
   "outputs": [],
   "source": [
    "train_model(2001, ysin, ysin)"
   ]
  },
  {
   "cell_type": "code",
   "execution_count": null,
   "id": "0b6295ab-8e53-489e-adb4-72c184727e92",
   "metadata": {},
   "outputs": [],
   "source": [
    "fig = plt.figure(figsize=(12, 6))\n",
    "plt.plot(x, ysin, 'r', label='true')\n",
    "plt.plot(x, model(xx).detach().numpy(), 'b', label='estimate')\n",
    "plt.grid()\n",
    "plt.legend()\n",
    "plt.show()"
   ]
  },
  {
   "cell_type": "code",
   "execution_count": null,
   "id": "95656ba2-201e-4680-b4a0-46a604f24972",
   "metadata": {},
   "outputs": [],
   "source": []
  }
 ],
 "metadata": {
  "kernelspec": {
   "display_name": "Python 3 (ipykernel)",
   "language": "python",
   "name": "python3"
  },
  "language_info": {
   "codemirror_mode": {
    "name": "ipython",
    "version": 3
   },
   "file_extension": ".py",
   "mimetype": "text/x-python",
   "name": "python",
   "nbconvert_exporter": "python",
   "pygments_lexer": "ipython3",
   "version": "3.10.6"
  }
 },
 "nbformat": 4,
 "nbformat_minor": 5
}
